{
  "nbformat": 4,
  "nbformat_minor": 0,
  "metadata": {
    "accelerator": "GPU",
    "colab": {
      "name": "master-project-DeepWalk.ipynb",
      "provenance": [],
      "collapsed_sections": [],
      "authorship_tag": "ABX9TyPHX5PanNAZQeuY0CTq/ntK",
      "include_colab_link": true
    },
    "kernelspec": {
      "display_name": "Python 3",
      "name": "python3"
    }
  },
  "cells": [
    {
      "cell_type": "markdown",
      "metadata": {
        "id": "view-in-github",
        "colab_type": "text"
      },
      "source": [
        "<a href=\"https://colab.research.google.com/github/msafari18/Master_project/blob/main/master_project_DeepWalk.ipynb\" target=\"_parent\"><img src=\"https://colab.research.google.com/assets/colab-badge.svg\" alt=\"Open In Colab\"/></a>"
      ]
    },
    {
      "cell_type": "code",
      "metadata": {
        "id": "_hYn-pfns5VC"
      },
      "source": [
        "import networkx as nx\n",
        "import pandas as pd\n",
        "import numpy as np\n",
        "import random\n",
        "from tqdm import tqdm\n",
        "from gensim.models.callbacks import CallbackAny2Vec\n",
        "from gensim.models import Word2Vec\n",
        "from random import shuffle\n",
        "import warnings\n",
        "from sklearn import svm\n",
        "from sklearn.model_selection import train_test_split\n",
        "from sklearn.metrics import f1_score\n",
        "\n",
        "\n",
        "%matplotlib inline"
      ],
      "execution_count": 1,
      "outputs": []
    },
    {
      "cell_type": "code",
      "metadata": {
        "id": "VcMb7oXdYWl-"
      },
      "source": [
        "def read_data(paths):\n",
        "  df_edges = pd.read_csv(paths[0])\n",
        "  df_edges.columns = [\"source\", \"target\"]\n",
        "  df_labels = pd.read_csv(paths[1])\n",
        "  df_labels.columns = ['node','label']\n",
        "\n",
        "  return df_edges, df_labels\n",
        "\n",
        "def pre_process_data(netwrok_data):\n",
        "  \n",
        "  source = netwrok_data['source']\n",
        "  target = netwrok_data['target']\n",
        "  \n",
        "  edges_list = []\n",
        "  for i, j in zip(source, target):\n",
        "    edges_list.append((i,j))\n",
        "  \n",
        "  return edges_list\n",
        "\n",
        "def create_network(network_edges_list):\n",
        "  \n",
        "  G = nx.Graph()\n",
        "  G.add_edges_from(network_edges_list)\n",
        "  print(\"number of nodes : \",G.number_of_nodes())\n",
        "\n",
        "  return G\n",
        "\n",
        "def get_randomwalk_v1(network ,node, path_length):\n",
        "    \n",
        "  path = [node]\n",
        "  for counter in range(1, path_length): \n",
        "      vertex_neighbors = [n for n in network.neighbors(node)]\n",
        "      probability = []\n",
        "      probability = probability + [1./len(vertex_neighbors)] * len(vertex_neighbors)\n",
        "      node = np.random.choice(vertex_neighbors, p=probability)\n",
        "      path.append(node)\n",
        "  return path\n",
        "\n",
        "def generate_randomwalk(network, w = 10, lambdaa = 80):\n",
        "  \n",
        "  all_nodes = list(network.nodes())\n",
        "\n",
        "  random_walks = []\n",
        "  for n in tqdm(all_nodes):\n",
        "    for i in range(lambdaa):\n",
        "      random_walks.append(get_randomwalk_v1(network,n,w))\n",
        "        \n",
        "  print(\"total random walks: \", len(random_walks))\n",
        "  return random_walks\n",
        "\n",
        "def pre_process_random_walks(random_walks):\n",
        "  \n",
        "  random_walks_str = []\n",
        "  for i in random_walks:\n",
        "    temp = []\n",
        "    for j in i:\n",
        "      x.append(str(j))\n",
        "    random_walks_str.append(x)\n",
        "\n",
        "  shuffle(rand_w_str)  \n",
        "  return random_walks_str\n",
        "\n",
        "def train_skip_gram(random_walks_str, epochs = 10, d = 128, negative_smapling = 12, window = 8):\n",
        "  \n",
        "  warnings.filterwarnings('ignore')\n",
        "\n",
        "  model = Word2Vec(window = window, sg = 1, hs = 0,\n",
        "                  negative = negative_smapling,\n",
        "                  alpha=0.03, min_alpha=0.0007, size = d, seed = 14, callbacks=[callback()])\n",
        "\n",
        "  model.build_vocab(random_walks_str, progress_per=2)\n",
        "\n",
        "  x = model.train(random_walks_str, total_examples = model.corpus_count, epochs= epochs, report_delay=1)\n",
        "\n",
        "  return model\n",
        "\n",
        "\n",
        "class callback(CallbackAny2Vec):\n",
        "    \"\"\"\n",
        "    Callback to print loss after each epoch\n",
        "    \"\"\"\n",
        "    def __init__(self):\n",
        "        self.epoch = 0\n",
        "\n",
        "    def on_epoch_end(self, model):\n",
        "        loss = model.get_latest_training_loss()\n",
        "        if self.epoch == 0:\n",
        "            print('Loss after epoch {}: {}'.format(self.epoch, loss))\n",
        "        else:\n",
        "            print('Loss after epoch {}: {}'.format(self.epoch, loss- self.loss_previous_step))\n",
        "        self.epoch += 1\n",
        "        self.loss_previous_step = loss\n",
        "\n",
        "\n",
        "def get_feature(label_data, trained_sg_model, test_size = 0.1):\n",
        "  \n",
        "  node = list(df_labels['node'])\n",
        "  label = list(df_labels['label'])\n",
        "  y = []\n",
        "  X = []\n",
        "  for i in all_nodes:\n",
        "    # if label[node.index(i)] != 8:\n",
        "    y.append(label[node.index(i)])\n",
        "    X.append(trained_sg_model[str(i)])\n",
        "    \n",
        "  X_train, X_test, y_train, y_test = train_test_split(X, y, test_size=0.1, random_state=42)\n",
        "\n",
        "  return X_train, X_test, y_train, y_test\n",
        "\n",
        "def classifier(X_train, y_train):  \n",
        "\n",
        "  clf = svm.SVC(kernel = 'rbf')\n",
        "  clf.fit(X_train, y_train)\n",
        "  print(\"train acc: \",clf.score(X_train, y_train))\n",
        "  return clf\n",
        "\n",
        "def validate_model(classifier, X_test, y_test):\n",
        "\n",
        "  y_pred = classifier.predict(X_test)\n",
        "  f1_micro = f1_score(y_test, y_pred, average='micro')\n",
        "  f1_macro = f1_score(y_test, y_pred, average='macro')\n",
        "\n",
        "  print(\"f1_micro: \", f1_micro, \"f1_macro: \", f1_macro)\n",
        "\n",
        "\n",
        "  "
      ],
      "execution_count": 10,
      "outputs": []
    },
    {
      "cell_type": "code",
      "metadata": {
        "id": "qa5IIB_LeZ2P",
        "outputId": "d1182516-b022-4559-cce5-ae9070ca8fe1",
        "colab": {
          "base_uri": "https://localhost:8080/"
        }
      },
      "source": [
        "df_edges, df_labels = read_data([\"/content/edges.csv\", \"/content/group-edges.csv\"])\n",
        "edges_list = pre_process_data(df_edges)\n",
        "network = create_network(edges_list)\n",
        "random_walks = generate_randomwalk(network)\n",
        "random_walks_str = pre_process_random_walks(random_walks)\n",
        "sg_model = train_skip_gram(random_walks_str)\n",
        "X_train, X_test, y_train, y_test = get_feature(df_labels, sg_model)\n",
        "classifier_model = classifier(X_train, y_train)\n",
        "validate_model(classifier_model, X_test, y_test)"
      ],
      "execution_count": null,
      "outputs": [
        {
          "output_type": "stream",
          "text": [
            "\r  0%|          | 0/10312 [00:00<?, ?it/s]"
          ],
          "name": "stderr"
        },
        {
          "output_type": "stream",
          "text": [
            "number of nodes :  10312\n"
          ],
          "name": "stdout"
        },
        {
          "output_type": "stream",
          "text": [
            " 85%|████████▌ | 8809/10312 [13:08<02:22, 10.56it/s]"
          ],
          "name": "stderr"
        }
      ]
    },
    {
      "cell_type": "code",
      "metadata": {
        "id": "iwwPK1mXYVis"
      },
      "source": [
        ""
      ],
      "execution_count": null,
      "outputs": []
    },
    {
      "cell_type": "code",
      "metadata": {
        "id": "CTxk4PZAr26Z"
      },
      "source": [
        "G = nx.Graph()\n",
        "G.add_edges_from(edges)"
      ],
      "execution_count": null,
      "outputs": []
    },
    {
      "cell_type": "code",
      "metadata": {
        "id": "-W1zFucEtkON",
        "outputId": "81a4236a-3a76-4e2c-97a0-de3af1da6c41",
        "colab": {
          "base_uri": "https://localhost:8080/"
        }
      },
      "source": [
        "G.number_of_nodes()"
      ],
      "execution_count": null,
      "outputs": [
        {
          "output_type": "execute_result",
          "data": {
            "text/plain": [
              "10312"
            ]
          },
          "metadata": {
            "tags": []
          },
          "execution_count": 6
        }
      ]
    },
    {
      "cell_type": "code",
      "metadata": {
        "id": "WX9JXEF0yTRK",
        "outputId": "9a99f530-31d8-4358-85a9-2b4623a6051c",
        "colab": {
          "base_uri": "https://localhost:8080/"
        }
      },
      "source": [
        "all_nodes = list(G.nodes())\n",
        "\n",
        "random_walks = []\n",
        "for n in tqdm(all_nodes):\n",
        "    for i in range(80):\n",
        "        random_walks.append(get_randomwalk(n,10))\n",
        "        \n",
        "len(random_walks)"
      ],
      "execution_count": null,
      "outputs": [
        {
          "output_type": "stream",
          "text": [
            "100%|██████████| 10312/10312 [16:46<00:00, 10.25it/s]\n"
          ],
          "name": "stderr"
        },
        {
          "output_type": "execute_result",
          "data": {
            "text/plain": [
              "824960"
            ]
          },
          "metadata": {
            "tags": []
          },
          "execution_count": 25
        }
      ]
    },
    {
      "cell_type": "code",
      "metadata": {
        "id": "WFtMqDEtzP-I",
        "outputId": "a55fe438-6b6d-45b8-a824-002442b4df89",
        "colab": {
          "base_uri": "https://localhost:8080/"
        }
      },
      "source": [
        "from gensim.models.callbacks import CallbackAny2Vec\n",
        "from gensim.models import Word2Vec\n",
        "from random import shuffle\n",
        "\n",
        "# init callback class\n",
        "class callback(CallbackAny2Vec):\n",
        "    \"\"\"\n",
        "    Callback to print loss after each epoch\n",
        "    \"\"\"\n",
        "    def __init__(self):\n",
        "        self.epoch = 0\n",
        "\n",
        "    def on_epoch_end(self, model):\n",
        "        loss = model.get_latest_training_loss()\n",
        "        if self.epoch == 0:\n",
        "            print('Loss after epoch {}: {}'.format(self.epoch, loss))\n",
        "        else:\n",
        "            print('Loss after epoch {}: {}'.format(self.epoch, loss- self.loss_previous_step))\n",
        "        self.epoch += 1\n",
        "        self.loss_previous_step = loss\n",
        "\n",
        "rand_w_str = []\n",
        "for i in random_walks:\n",
        "  x = []\n",
        "  for j in i:\n",
        "    x.append(str(j))\n",
        "  rand_w_str.append(x)\n",
        "\n",
        "# print(rand_w_str[0])\n",
        "shuffle(rand_w_str)\n",
        "import warnings\n",
        "warnings.filterwarnings('ignore')\n",
        "\n",
        "model = Word2Vec(window = 30, sg = 1, hs = 0,\n",
        "                 negative = 12,\n",
        "                 alpha=0.03, min_alpha=0.0007, size = 128, seed = 14, callbacks=[callback()])\n",
        "\n",
        "model.build_vocab(rand_w_str, progress_per=2)\n",
        "\n",
        "x = model.train(rand_w_str, total_examples = model.corpus_count, epochs=3, report_delay=1)\n"
      ],
      "execution_count": null,
      "outputs": [
        {
          "output_type": "stream",
          "text": [
            "Loss after epoch 0: 0.0\n",
            "Loss after epoch 1: 0.0\n",
            "Loss after epoch 2: 0.0\n"
          ],
          "name": "stdout"
        }
      ]
    },
    {
      "cell_type": "code",
      "metadata": {
        "id": "vwcT9k_t198a",
        "outputId": "e082bae3-1e26-430a-b04c-750037b30bcd",
        "colab": {
          "base_uri": "https://localhost:8080/"
        }
      },
      "source": [
        "model.similar_by_word('1')"
      ],
      "execution_count": null,
      "outputs": [
        {
          "output_type": "execute_result",
          "data": {
            "text/plain": [
              "[('400', 0.5817173719406128),\n",
              " ('23', 0.5296919941902161),\n",
              " ('1271', 0.5135620832443237),\n",
              " ('780', 0.49335840344429016),\n",
              " ('450', 0.4902195334434509),\n",
              " ('6552', 0.4853951334953308),\n",
              " ('175', 0.4767530560493469),\n",
              " ('1741', 0.4727059006690979),\n",
              " ('742', 0.470461905002594),\n",
              " ('884', 0.4609057605266571)]"
            ]
          },
          "metadata": {
            "tags": []
          },
          "execution_count": 32
        }
      ]
    },
    {
      "cell_type": "code",
      "metadata": {
        "id": "6mnpbeO_6Gsr",
        "outputId": "bef8cf3e-2a17-4eb0-f82f-9259918453f3",
        "colab": {
          "base_uri": "https://localhost:8080/"
        }
      },
      "source": [
        "print(len(model['1']))"
      ],
      "execution_count": null,
      "outputs": [
        {
          "output_type": "stream",
          "text": [
            "128\n"
          ],
          "name": "stdout"
        }
      ]
    },
    {
      "cell_type": "code",
      "metadata": {
        "id": "Zf4QJU4v6k05",
        "outputId": "75003a13-3d45-4abd-abc0-3aef115e2b32",
        "colab": {
          "base_uri": "https://localhost:8080/"
        }
      },
      "source": [
        "from sklearn import svm\n",
        "\n",
        "from sklearn.model_selection import train_test_split\n",
        "\n",
        "\n",
        "node = list(df_labels['node'])\n",
        "label = list(df_labels['label'])\n",
        "y = []\n",
        "X = []\n",
        "for i in all_nodes:\n",
        "  # if label[node.index(i)] != 8:\n",
        "  y.append(label[node.index(i)])\n",
        "  X.append(model[str(i)])\n",
        "  \n",
        "X_train, X_test, y_train, y_test = train_test_split(X, y, test_size=0.1, random_state=42)\n",
        "  \n",
        "clf = svm.SVC(kernel = 'rbf')\n",
        "clf.fit(X_train, y_train)\n",
        "print(clf.score(X_train, y_train))\n",
        "\n",
        "\n",
        "from sklearn.metrics import f1_score\n",
        "y_pred = clf.predict(X_test)\n",
        "f1_micro = f1_score(y_test, y_pred, average='micro')\n",
        "f1_macro = f1_score(y_test, y_pred, average='macro')\n",
        "\n",
        "print(f1_micro, f1_macro)"
      ],
      "execution_count": null,
      "outputs": [
        {
          "output_type": "execute_result",
          "data": {
            "text/plain": [
              "SVC(C=1.0, break_ties=False, cache_size=200, class_weight=None, coef0=0.0,\n",
              "    decision_function_shape='ovr', degree=3, gamma='scale', kernel='rbf',\n",
              "    max_iter=-1, probability=False, random_state=None, shrinking=True,\n",
              "    tol=0.001, verbose=False)"
            ]
          },
          "metadata": {
            "tags": []
          },
          "execution_count": 34
        }
      ]
    },
    {
      "cell_type": "code",
      "metadata": {
        "id": "c94I7ipUNOLF",
        "outputId": "60b7afcd-7c9e-4888-e9da-4bfe7c109c78",
        "colab": {
          "base_uri": "https://localhost:8080/"
        }
      },
      "source": [
        "print(clf.score(X_train, y_train))"
      ],
      "execution_count": null,
      "outputs": [
        {
          "output_type": "stream",
          "text": [
            "0.6044181034482758\n"
          ],
          "name": "stdout"
        }
      ]
    },
    {
      "cell_type": "code",
      "metadata": {
        "id": "SIyDeYbGN8S5",
        "outputId": "482fce00-c327-452a-b19e-6dd4b95c564a",
        "colab": {
          "base_uri": "https://localhost:8080/"
        }
      },
      "source": [
        "from sklearn.metrics import f1_score\n",
        "y_pred = clf.predict(X_test)\n",
        "f1_micro = f1_score(y_test, y_pred, average='micro')\n",
        "f1_macro = f1_score(y_test, y_pred, average='macro')\n",
        "\n",
        "print(f1_micro, f1_macro)"
      ],
      "execution_count": null,
      "outputs": [
        {
          "output_type": "stream",
          "text": [
            "0.3507751937984496 0.2006500453443873\n"
          ],
          "name": "stdout"
        }
      ]
    },
    {
      "cell_type": "code",
      "metadata": {
        "id": "TH1ISxbSSw_5"
      },
      "source": [
        ""
      ],
      "execution_count": null,
      "outputs": []
    }
  ]
}